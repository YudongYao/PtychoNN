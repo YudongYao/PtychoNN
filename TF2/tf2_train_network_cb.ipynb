{
 "cells": [
  {
   "cell_type": "code",
   "execution_count": null,
   "metadata": {
    "id": "M1DIMX0d5b2P"
   },
   "outputs": [],
   "source": [
    "path = './'\n",
    "import sys\n",
    "sys.path.append(path)"
   ]
  },
  {
   "cell_type": "markdown",
   "metadata": {
    "id": "m5twWywf5Sq-"
   },
   "source": [
    "### Choose GPU settings, import libraries"
   ]
  },
  {
   "cell_type": "code",
   "execution_count": null,
   "metadata": {
    "ExecuteTime": {
     "end_time": "2020-06-09T23:02:28.538177Z",
     "start_time": "2020-06-09T23:02:25.442135Z"
    },
    "cellView": "both",
    "colab": {
     "base_uri": "https://localhost:8080/"
    },
    "id": "apJbCsBHl-2A",
    "outputId": "b057af5d-eda4-4f72-f048-d1099dc1a9e0",
    "scrolled": true
   },
   "outputs": [],
   "source": [
    "import os\n",
    "os.environ[\"CUDA_VISIBLE_DEVICES\"]=\"7\"\n",
    "num_GPU = len(os.environ[\"CUDA_VISIBLE_DEVICES\"].split(',')) \n",
    "\n",
    "import tensorflow as tf\n",
    "\n",
    "from tensorflow.keras.layers import Conv2D, Conv2DTranspose, Layer\n",
    "from tensorflow.keras.activations import sigmoid, tanh\n",
    "from tensorflow.keras import Input\n",
    "from tensorflow.keras import Model\n",
    "import tensorflow.keras.backend as K\n",
    "\n",
    "#from tensorflow.keras import mixed_precision"
   ]
  },
  {
   "cell_type": "code",
   "execution_count": null,
   "metadata": {
    "colab": {
     "base_uri": "https://localhost:8080/"
    },
    "id": "annLnsVJ5SrD",
    "outputId": "204ff538-f945-4e86-ad1f-7941177302f7"
   },
   "outputs": [],
   "source": [
    "#print(os.environ[\"CUDA_VISIBLE_DEVICES\"])\n",
    "gpus = tf.config.experimental.list_physical_devices('GPU')\n",
    "print(gpus)\n",
    "if len(gpus):\n",
    "    try:\n",
    "        for gpu in gpus:\n",
    "            tf.config.experimental.set_memory_growth(gpu, True)\n",
    "            print(\"Restricting Memory\")\n",
    "    except RuntimeError as e:\n",
    "        print(e)"
   ]
  },
  {
   "cell_type": "code",
   "execution_count": null,
   "metadata": {
    "ExecuteTime": {
     "end_time": "2020-06-09T23:02:29.027621Z",
     "start_time": "2020-06-09T23:02:28.542281Z"
    },
    "id": "NfVAbpbh5SrF"
   },
   "outputs": [],
   "source": [
    "import matplotlib.pyplot as plt\n",
    "import numpy as np\n",
    "import glob\n",
    "from tqdm.notebook import tqdm as tqdm\n",
    "# Config the matplotlib backend as plotting inline in IPython\n",
    "%matplotlib inline\n",
    "\n",
    "import keras_helper\n",
    "import importlib\n",
    "importlib.reload(keras_helper)\n",
    "from keras_helper import *\n",
    "from skimage.transform import resize\n",
    "from clr_callback import CyclicLR\n",
    "import math as m"
   ]
  },
  {
   "cell_type": "markdown",
   "metadata": {
    "id": "tEl55CE15SrF"
   },
   "source": [
    "### Some training parameters"
   ]
  },
  {
   "cell_type": "code",
   "execution_count": null,
   "metadata": {
    "ExecuteTime": {
     "end_time": "2020-06-09T23:02:29.035343Z",
     "start_time": "2020-06-09T23:02:29.031387Z"
    },
    "id": "jbgvgQrs5SrF"
   },
   "outputs": [],
   "source": [
    "h,w=64,64\n",
    "nepochs=60\n",
    "wt_path = 'wts4' #Where to store network weights\n",
    "batch_size = 32\n",
    "Init_lr = 1e-2\n",
    "\n",
    "nconv = 32\n",
    "\n",
    "if (not os.path.isdir(path+wt_path)):\n",
    "    os.mkdir(wt_path)"
   ]
  },
  {
   "cell_type": "markdown",
   "metadata": {
    "id": "2pBOQ9MY5SrF"
   },
   "source": [
    "### Read experimental diffraction data and reconstructed images"
   ]
  },
  {
   "cell_type": "code",
   "execution_count": null,
   "metadata": {},
   "outputs": [],
   "source": [
    "!wget -L https://github.com/mcherukara/PtychoNN/blob/master/data/20191008_39_amp_pha_10nm_full.npy?raw=true \n",
    "!wget -L https://github.com/mcherukara/PtychoNN/blob/master/data/20191008_39_diff.npz?raw=true"
   ]
  },
  {
   "cell_type": "code",
   "execution_count": null,
   "metadata": {
    "ExecuteTime": {
     "end_time": "2020-06-09T23:02:41.612879Z",
     "start_time": "2020-06-09T23:02:29.038488Z"
    },
    "id": "8YvhECjN5SrF"
   },
   "outputs": [],
   "source": [
    "data_diffr = np.load('20191008_39_diff.npz')['arr_0']"
   ]
  },
  {
   "cell_type": "code",
   "execution_count": null,
   "metadata": {
    "ExecuteTime": {
     "end_time": "2020-06-09T23:03:18.751866Z",
     "start_time": "2020-06-09T23:02:41.616917Z"
    },
    "colab": {
     "base_uri": "https://localhost:8080/",
     "height": 133,
     "referenced_widgets": [
      "bba6622d929b4ddab312bf88033f95d4",
      "58b2178099b347ba91789b3cfd45736d",
      "a9e3b32014c9406aa0de23203dda0029",
      "6c8c98f94e604fa98963e6903986168d",
      "47a0d74cca7e40daa3a11d7d24233b35",
      "09a766e10fd24342893ab6a25108418d",
      "4e2a079724654a7cb9ddfb9a94e97a75",
      "ce8995928977408b92aff4a683dc5f1a"
     ]
    },
    "id": "YHfQ24wg5SrG",
    "outputId": "fd8aa31a-45fb-40ff-dfbd-2ff84dce7b2c"
   },
   "outputs": [],
   "source": [
    "#plt.matshow(np.log10(data_diffr[0,0]))\n",
    "try:\n",
    "    data_diffr_red = np.load(path + '../data/20191008_39_diff_reduced.npz')['arr_0']\n",
    "except:\n",
    "    data_diffr_red = np.zeros((data_diffr.shape[0],data_diffr.shape[1],64,64), float)\n",
    "    for i in tqdm(range(data_diffr.shape[0])):\n",
    "        for j in range(data_diffr.shape[1]):\n",
    "            data_diffr_red[i,j] = resize(data_diffr[i,j,32:-32,32:-32],(64,64),preserve_range=True, anti_aliasing=True)\n",
    "            data_diffr_red[i,j] = np.where(data_diffr_red[i,j]<3,0,data_diffr_red[i,j])\n"
   ]
  },
  {
   "cell_type": "code",
   "execution_count": null,
   "metadata": {
    "ExecuteTime": {
     "end_time": "2020-06-09T23:03:22.185270Z",
     "start_time": "2020-06-09T23:03:18.754735Z"
    },
    "colab": {
     "base_uri": "https://localhost:8080/"
    },
    "id": "fYsVcaiN5SrG",
    "outputId": "01dab169-157f-47cb-c168-b74ecb750c0c"
   },
   "outputs": [],
   "source": [
    "#amp = np.load('../expt_data/s26_data/20191008_30_10nm_amp.npz')['arr_0']\n",
    "#ph = np.load('../expt_data/s26_data/20191008_39_10nm.npz')['arr_0']\n",
    "real_space = np.load(data_path+'20191008_39_amp_pha_10nm_full.npy')\n",
    "amp = np.abs(real_space)\n",
    "ph = np.angle(real_space)\n",
    "amp.shape"
   ]
  },
  {
   "cell_type": "code",
   "execution_count": null,
   "metadata": {
    "ExecuteTime": {
     "end_time": "2020-06-09T23:03:22.895041Z",
     "start_time": "2020-06-09T23:03:22.187370Z"
    },
    "colab": {
     "base_uri": "https://localhost:8080/",
     "height": 584
    },
    "id": "bmeGZcbf5SrG",
    "outputId": "58e1a464-0230-493f-cc43-2de2eeb297cb"
   },
   "outputs": [],
   "source": [
    "fig,ax = plt.subplots(1,2,figsize=(20,10))\n",
    "ax[0].imshow(amp[:,:,32,32])\n",
    "ax[1].imshow(ph[:,:,32,32])"
   ]
  },
  {
   "cell_type": "markdown",
   "metadata": {
    "id": "FAyP7LUg5SrG"
   },
   "source": [
    "### Split data and then shuffle"
   ]
  },
  {
   "cell_type": "code",
   "execution_count": null,
   "metadata": {
    "ExecuteTime": {
     "end_time": "2020-06-09T23:03:22.900677Z",
     "start_time": "2020-06-09T23:03:22.897049Z"
    },
    "colab": {
     "base_uri": "https://localhost:8080/"
    },
    "id": "K_XzGp2D5SrH",
    "outputId": "673eedc8-5b2e-43a5-f530-4270cdc49cd2"
   },
   "outputs": [],
   "source": [
    "nlines = 100 #How many lines of data to use for training?\n",
    "nltest = 60 #How many lines for the test set?\n",
    "tst_strt = amp.shape[0]-nltest #Where to index from\n",
    "print(tst_strt)"
   ]
  },
  {
   "cell_type": "code",
   "execution_count": null,
   "metadata": {
    "ExecuteTime": {
     "end_time": "2020-06-09T23:03:23.783547Z",
     "start_time": "2020-06-09T23:03:22.903186Z"
    },
    "colab": {
     "base_uri": "https://localhost:8080/"
    },
    "id": "YipWAk3P5SrH",
    "outputId": "c3cb493d-faf7-4b2b-823c-965e1e01c4a0"
   },
   "outputs": [],
   "source": [
    "from sklearn.utils import shuffle\n",
    "from sklearn.model_selection import train_test_split\n",
    "\n",
    "\n",
    "X_train = data_diffr_red[:nlines,:].reshape(-1,h,w)[:,:,:,np.newaxis]\n",
    "X_test = data_diffr_red[tst_strt:,tst_strt:].reshape(-1,h,w)[:,:,:,np.newaxis]\n",
    "Y_I_train = amp[:nlines,:].reshape(-1,h,w)[:,:,:,np.newaxis]\n",
    "Y_I_test = amp[tst_strt:,tst_strt:].reshape(-1,h,w)[:,:,:,np.newaxis]\n",
    "Y_phi_train = ph[:nlines,:].reshape(-1,h,w)[:,:,:,np.newaxis]\n",
    "Y_phi_test = ph[tst_strt:,tst_strt:].reshape(-1,h,w)[:,:,:,np.newaxis]\n",
    "\n",
    "ntrain = X_train.shape[0]*X_train.shape[1]\n",
    "ntest = X_test.shape[0]*X_test.shape[1]\n",
    "\n",
    "print(X_train.shape, X_test.shape)\n",
    "\n",
    "X_train, Y_I_train, Y_phi_train = shuffle(X_train, Y_I_train, Y_phi_train, random_state=0)"
   ]
  },
  {
   "cell_type": "markdown",
   "metadata": {
    "id": "z-5EJ3Ht5SrH"
   },
   "source": [
    "### Save the test data for later use"
   ]
  },
  {
   "cell_type": "code",
   "execution_count": null,
   "metadata": {
    "ExecuteTime": {
     "end_time": "2020-06-09T23:03:24.069064Z",
     "start_time": "2020-06-09T23:03:23.785738Z"
    },
    "id": "zCQwSMZW5SrH"
   },
   "outputs": [],
   "source": [
    "#np.save('data/X_test.npy', X_test) #Diffraction data\n",
    "#np.save('data/Y_I_test.npy', Y_I_test) #Intensity data\n",
    "#np.save('data/Y_phi_test.npy', Y_phi_test) #Intensity data"
   ]
  },
  {
   "cell_type": "markdown",
   "metadata": {
    "id": "xI9DxVKs5SrH"
   },
   "source": [
    "## Define the network structure"
   ]
  },
  {
   "cell_type": "code",
   "execution_count": null,
   "metadata": {},
   "outputs": [],
   "source": [
    "class pool_module(Layer):\n",
    "    def __init__(self, nfilters,use_stride=True, w1=3,w2=3,p1=2,p2=2,padding='same',data_format='channels_last'):\n",
    "        super(pool_module, self).__init__()\n",
    "        # conv layer\n",
    "        self.use_stride = use_stride\n",
    "        self.conv1 = Conv2D(nfilters, (w1, w2), activation='relu', padding=padding, data_format=data_format)\n",
    "        self.conv2 = Conv2D(nfilters, (w1, w2), strides=(p1, p2), activation='relu', padding=padding, data_format=data_format)\n",
    "        self.maxpool = MaxPool2D((p1, p2), padding=padding, data_format=data_format)\n",
    "        \n",
    "    def call(self, input_tensor):\n",
    "        x = self.conv1(input_tensor)\n",
    "        if self.use_stride:\n",
    "            x = self.conv2(x)\n",
    "        else:\n",
    "            x = self.conv1(x)\n",
    "            x = self.maxpool(x)\n",
    "        return x\n",
    "                            \n",
    "\n",
    "class up_module(Layer):\n",
    "    def __init__(self, nfilters,use_stride=True, w1=3,w2=3,p1=2,p2=2,padding='same',data_format='channels_last'):\n",
    "        super(up_module, self).__init__()\n",
    "        self.use_stride = use_stride\n",
    "        # conv layer\n",
    "        self.conv1 = Conv2D(nfilters, (w1, w2), activation='relu', padding=padding, data_format=data_format)\n",
    "        self.conv2 = Conv2DTranspose(nfilters, (w1, w2), strides=(p1, p2), activation='relu', padding=padding, data_format=data_format)\n",
    "        self.upsample = UpSampling2D((p1, p2), data_format=data_format)\n",
    "        \n",
    "    def call(self, input_tensor):\n",
    "        x = self.conv1(input_tensor)\n",
    "        if self.use_stride:\n",
    "            x = self.conv2(x)\n",
    "        else:\n",
    "            x = self.conv1(x)\n",
    "            x = self.upsample(x)\n",
    "        return x"
   ]
  },
  {
   "cell_type": "code",
   "execution_count": null,
   "metadata": {},
   "outputs": [],
   "source": [
    "class ReconModel(Model):\n",
    "    def __init__(self, n_filters: int = 32):\n",
    "        super(ReconModel, self).__init__()\n",
    "\n",
    "        self.pool_module1 = pool_module(nfilters = 1*n_filters)\n",
    "        self.pool_module2 = pool_module(nfilters = 2*n_filters)\n",
    "        self.pool_module3 = pool_module(nfilters = 4*n_filters)\n",
    "        \n",
    "        self.up_module1A = up_module(nfilters = 4*n_filters)\n",
    "        self.up_module2A = up_module(nfilters = 2*n_filters)\n",
    "        self.up_module3A = up_module(nfilters = 1*n_filters)\n",
    "        self.convA = Conv2D(1, (3, 3), padding='same')\n",
    "        self.sigmoid = sigmoid\n",
    "        \n",
    "        self.up_module1B = up_module(nfilters = 4*n_filters)\n",
    "        self.up_module2B = up_module(nfilters = 2*n_filters)\n",
    "        self.up_module3B = up_module(nfilters = 1*n_filters)\n",
    "        self.convB = Conv2D(1, (3, 3), padding='same')\n",
    "        self.tanh = tanh\n",
    "    \n",
    "    def call(self, inputs):\n",
    "        x0 = self.pool_module1(inputs)\n",
    "        x0 = self.pool_module2(x0)\n",
    "        encoded = self.pool_module3(x0)\n",
    "\n",
    "        x1 = self.up_module1A(encoded)\n",
    "        x1 = self.up_module2A(x1)\n",
    "        x1 = self.up_module3A(x1)\n",
    "        x1 = self.convA(x1)\n",
    "        decoded1 = self.sigmoid(x1)       \n",
    "        \n",
    "        x2 = self.up_module1B(encoded)\n",
    "        x2 = self.up_module2B(x2)\n",
    "        x2 = self.up_module3B(x2)\n",
    "        x2 = self.convB(x2)\n",
    "        decoded2 = m.pi * self.tanh(x2)\n",
    "                \n",
    "        return [decoded1, decoded2]"
   ]
  },
  {
   "cell_type": "code",
   "execution_count": null,
   "metadata": {
    "ExecuteTime": {
     "end_time": "2020-06-09T23:03:24.572470Z",
     "start_time": "2020-06-09T23:03:24.071581Z"
    },
    "colab": {
     "base_uri": "https://localhost:8080/"
    },
    "id": "Btm0zvzd5SrH",
    "outputId": "b1dc27de-3b6f-4eca-f0fa-706d0459daf3",
    "scrolled": true
   },
   "outputs": [],
   "source": [
    "tf.keras.backend.clear_session()\n",
    "np.random.seed(123)\n",
    "\n",
    "files=glob.glob('%s/*' %wt_path)\n",
    "for file in files:\n",
    "    os.remove(file)\n",
    "\n",
    "#model\n",
    "autoencoder = ReconModel(n_filters=nconv)\n",
    "autoencoder.build(input_shape=(None, h, w, 1))\n",
    "autoencoder.call(Input(shape=(h, w, 1)))\n",
    "autoencoder.summary()\n",
    "\n",
    "autoencoder.compile(optimizer='adam', loss='mean_absolute_error')\n",
    "\n",
    "#plot_model(autoencoder, to_file='paper_data/str_model.png')\n",
    "\n",
    "\n"
   ]
  },
  {
   "cell_type": "code",
   "execution_count": null,
   "metadata": {},
   "outputs": [],
   "source": [
    "# min_lr = 1e-4\n",
    "# top_lr = Init_lr\n",
    "# train_size = len(X_train)\n",
    "# step_size = int(train_size / batch_size) * 8\n",
    "# gamma = 10**(np.log10(min_lr / top_lr) /\n",
    "#              (train_size / batch_size * nepochs))\n",
    "# reduce_lr = CyclicLR(base_lr=min_lr,\n",
    "#                      max_lr=top_lr,\n",
    "#                      step_size=step_size,\n",
    "#                      mode='exp_range',\n",
    "#                      gamma=gamma)\n",
    "        \n",
    "reduce_lr = tf.keras.callbacks.ReduceLROnPlateau(monitor='val_loss', factor=0.5,\n",
    "                              patience=2, min_lr=0.0001, verbose=1)"
   ]
  },
  {
   "cell_type": "code",
   "execution_count": null,
   "metadata": {
    "ExecuteTime": {
     "end_time": "2020-06-09T23:17:41.204720Z",
     "start_time": "2020-06-09T23:03:24.574491Z"
    },
    "colab": {
     "base_uri": "https://localhost:8080/"
    },
    "id": "UCivsdnN5SrI",
    "outputId": "252f7fd8-52ad-4cff-9032-6ff22490f622",
    "scrolled": true,
    "tags": []
   },
   "outputs": [],
   "source": [
    "checkpoints= tf.keras.callbacks.ModelCheckpoint('%s/weights.{epoch:02d}.hdf5' %wt_path, \n",
    "                                            monitor='val_loss', verbose=1, save_best_only=True, \n",
    "                                            save_weights_only=True, mode='auto', period=1)\n",
    "\n",
    "history=autoencoder.fit(X_train, [Y_I_train, Y_phi_train], shuffle=True, batch_size=batch_size, verbose=1, \n",
    "                           epochs=nepochs, validation_split = 0.05, callbacks=[checkpoints, reduce_lr])"
   ]
  },
  {
   "cell_type": "markdown",
   "metadata": {
    "id": "zlPB4MvK5SrI"
   },
   "source": [
    "## Plot metrics of the training"
   ]
  },
  {
   "cell_type": "code",
   "execution_count": null,
   "metadata": {
    "ExecuteTime": {
     "end_time": "2020-06-09T23:17:42.503980Z",
     "start_time": "2020-06-09T23:17:41.209545Z"
    },
    "colab": {
     "base_uri": "https://localhost:8080/",
     "height": 564
    },
    "id": "e4IumHEt5SrJ",
    "outputId": "d7c4cf56-640d-4b56-9f46-d0c6153393fd"
   },
   "outputs": [],
   "source": [
    "hist=history\n",
    "epochs=np.asarray(history.epoch)+1\n",
    "\n",
    "%matplotlib inline\n",
    "import matplotlib\n",
    "plt.style.use('seaborn-white')\n",
    "matplotlib.rc('font',family='Times New Roman')\n",
    "matplotlib.rcParams['font.size'] = 20\n",
    "\n",
    "f, axarr = plt.subplots(3, sharex=True, figsize=(12, 8))\n",
    "\n",
    "axarr[0].set(ylabel='Loss')\n",
    "axarr[0].plot(epochs,hist.history['loss'], 'C3o', label='Total Training')\n",
    "axarr[0].plot(epochs,hist.history['val_loss'], 'C3-', label='Total Validation')\n",
    "axarr[0].grid()\n",
    "axarr[0].legend(loc='center right', bbox_to_anchor=(1.5, 0.5))\n",
    "\n",
    "axarr[1].set(ylabel='Loss')\n",
    "axarr[1].plot(epochs,hist.history['output_1_loss'], 'C0o', label='Structure Training')\n",
    "axarr[1].plot(epochs,hist.history['val_output_1_loss'], 'C0-', label='Structure Validation')\n",
    "axarr[1].legend(loc='center right', bbox_to_anchor=(1.5, 0.5))\n",
    "plt.xlabel('Epochs')\n",
    "plt.tight_layout()\n",
    "axarr[1].grid()\n",
    "\n",
    "\n",
    "axarr[2].set(ylabel='Loss')\n",
    "axarr[2].plot(epochs,hist.history['output_2_loss'], 'C0o', label='Phase Training')\n",
    "axarr[2].plot(epochs,hist.history['val_output_2_loss'], 'C0-', label='Phase Validation')\n",
    "axarr[2].legend(loc='center right', bbox_to_anchor=(1.5, 0.5))\n",
    "plt.tight_layout()\n",
    "axarr[2].grid()\n"
   ]
  },
  {
   "cell_type": "code",
   "execution_count": null,
   "metadata": {
    "ExecuteTime": {
     "end_time": "2020-06-09T23:17:42.512917Z",
     "start_time": "2020-06-09T23:17:42.506575Z"
    },
    "id": "KfrZ0Nuf5SrJ"
   },
   "outputs": [],
   "source": [
    "np.save(path+'str_history', history.history)"
   ]
  },
  {
   "cell_type": "markdown",
   "metadata": {
    "id": "rgCnp4pf5SrJ"
   },
   "source": [
    "### Save the epoch with the lowest validation loss\n",
    "(PtychoNN will use these weights)"
   ]
  },
  {
   "cell_type": "code",
   "execution_count": null,
   "metadata": {
    "ExecuteTime": {
     "end_time": "2020-06-09T23:17:42.524368Z",
     "start_time": "2020-06-09T23:17:42.514737Z"
    },
    "colab": {
     "base_uri": "https://localhost:8080/"
    },
    "id": "-yrdJwi95SrJ",
    "outputId": "dabc40b7-af9d-478e-ef38-5688da2a060f"
   },
   "outputs": [],
   "source": [
    "val_losses=hist.history['val_loss']\n",
    "min_epoch=np.argmin(val_losses)+1\n",
    "print (min_epoch)\n",
    "np.save(path+'%s/min_epoch' %(wt_path), min_epoch)"
   ]
  },
  {
   "cell_type": "markdown",
   "metadata": {},
   "source": [
    "### Make prediction using the diffraction data alone"
   ]
  },
  {
   "cell_type": "code",
   "execution_count": null,
   "metadata": {},
   "outputs": [],
   "source": [
    "preds_intens=(autoencoder.predict(X_test))\n",
    "print (preds_intens[0].shape)"
   ]
  },
  {
   "cell_type": "code",
   "execution_count": null,
   "metadata": {},
   "outputs": [],
   "source": [
    "h,w = 64,64\n",
    "ntest=preds_intens[0].shape[0]\n",
    "plt.viridis()\n",
    "n = 5\n",
    "f,ax=plt.subplots(7,n,figsize=(20, 15))\n",
    "plt.gcf().text(0.02, 0.85, \"Input\", fontsize=20)\n",
    "plt.gcf().text(0.02, 0.72, \"True I\", fontsize=20)\n",
    "plt.gcf().text(0.02, 0.6, \"Predicted I\", fontsize=20)\n",
    "plt.gcf().text(0.02, 0.5, \"Difference I\", fontsize=20)\n",
    "plt.gcf().text(0.02, 0.4, \"True Phi\", fontsize=20)\n",
    "plt.gcf().text(0.02, 0.27, \"Predicted Phi\", fontsize=20)\n",
    "plt.gcf().text(0.02, 0.17, \"Difference Phi\", fontsize=20)\n",
    "\n",
    "for i in range(0,n):\n",
    "    j=int(round(np.random.rand()*ntest))\n",
    "\n",
    "        # display FT\n",
    "    im=ax[0,i].imshow(np.log10(X_test[j].reshape(h, w)+1))\n",
    "    plt.colorbar(im, ax=ax[0,i], format='%.2f')\n",
    "    ax[0,i].get_xaxis().set_visible(False)\n",
    "    ax[0,i].get_yaxis().set_visible(False)\n",
    "\n",
    "    # display original intens\n",
    "    im=ax[1,i].imshow(Y_I_test[j].reshape(h, w))\n",
    "    plt.colorbar(im, ax=ax[1,i], format='%.2f')\n",
    "    ax[1,i].get_xaxis().set_visible(False)\n",
    "    ax[1,i].get_yaxis().set_visible(False)\n",
    "    \n",
    "    # display predicted intens\n",
    "    im=ax[2,i].imshow(preds_intens[0][j].reshape(h, w))\n",
    "    plt.colorbar(im, ax=ax[2,i], format='%.2f')\n",
    "    ax[2,i].get_xaxis().set_visible(False)\n",
    "    ax[2,i].get_yaxis().set_visible(False)\n",
    "    \n",
    "        # display original phase\n",
    "    im=ax[4,i].imshow(Y_phi_test[j].reshape(h, w))\n",
    "    plt.colorbar(im, ax=ax[4,i], format='%.2f')\n",
    "    ax[4,i].get_xaxis().set_visible(False)\n",
    "    ax[4,i].get_yaxis().set_visible(False)\n",
    "    \n",
    "    # display predicted phase\n",
    "    im=ax[5,i].imshow(preds_intens[1][j].reshape(h, w))\n",
    "    plt.colorbar(im, ax=ax[5,i], format='%.2f')\n",
    "    ax[5,i].get_xaxis().set_visible(False)\n",
    "    ax[5,i].get_yaxis().set_visible(False)\n",
    "    \n",
    "    #Difference in amplitude\n",
    "    im=ax[3,i].imshow(Y_I_test[j].reshape(h, w)-preds_intens[0][j].reshape(h, w))\n",
    "    plt.colorbar(im, ax=ax[3,i], format='%.2f')\n",
    "    ax[3,i].get_xaxis().set_visible(False)\n",
    "    ax[3,i].get_yaxis().set_visible(False)\n",
    "    \n",
    "    # Difference in phase\n",
    "    im=ax[6,i].imshow(Y_phi_test[j].reshape(h, w)-preds_intens[1][j].reshape(h, w))\n",
    "    plt.colorbar(im, ax=ax[6,i], format='%.2f')\n",
    "    ax[6,i].get_xaxis().set_visible(False)\n",
    "    ax[6,i].get_yaxis().set_visible(False)\n",
    "    \n",
    "plt.show()"
   ]
  },
  {
   "cell_type": "code",
   "execution_count": null,
   "metadata": {},
   "outputs": [],
   "source": []
  },
  {
   "cell_type": "code",
   "execution_count": null,
   "metadata": {},
   "outputs": [],
   "source": []
  }
 ],
 "metadata": {
  "accelerator": "GPU",
  "colab": {
   "include_colab_link": true,
   "name": "tf2_train_network_mixed_precision.ipynb",
   "provenance": []
  },
  "kernelspec": {
   "display_name": "Python 3",
   "language": "python",
   "name": "python3"
  },
  "language_info": {
   "codemirror_mode": {
    "name": "ipython",
    "version": 3
   },
   "file_extension": ".py",
   "mimetype": "text/x-python",
   "name": "python",
   "nbconvert_exporter": "python",
   "pygments_lexer": "ipython3",
   "version": "3.8.8"
  },
  "varInspector": {
   "cols": {
    "lenName": 16,
    "lenType": 16,
    "lenVar": 40
   },
   "kernels_config": {
    "python": {
     "delete_cmd_postfix": "",
     "delete_cmd_prefix": "del ",
     "library": "var_list.py",
     "varRefreshCmd": "print(var_dic_list())"
    },
    "r": {
     "delete_cmd_postfix": ") ",
     "delete_cmd_prefix": "rm(",
     "library": "var_list.r",
     "varRefreshCmd": "cat(var_dic_list()) "
    }
   },
   "types_to_exclude": [
    "module",
    "function",
    "builtin_function_or_method",
    "instance",
    "_Feature"
   ],
   "window_display": false
  },
  "widgets": {
   "application/vnd.jupyter.widget-state+json": {
    "09a766e10fd24342893ab6a25108418d": {
     "model_module": "@jupyter-widgets/base",
     "model_name": "LayoutModel",
     "state": {
      "_model_module": "@jupyter-widgets/base",
      "_model_module_version": "1.2.0",
      "_model_name": "LayoutModel",
      "_view_count": null,
      "_view_module": "@jupyter-widgets/base",
      "_view_module_version": "1.2.0",
      "_view_name": "LayoutView",
      "align_content": null,
      "align_items": null,
      "align_self": null,
      "border": null,
      "bottom": null,
      "display": null,
      "flex": null,
      "flex_flow": null,
      "grid_area": null,
      "grid_auto_columns": null,
      "grid_auto_flow": null,
      "grid_auto_rows": null,
      "grid_column": null,
      "grid_gap": null,
      "grid_row": null,
      "grid_template_areas": null,
      "grid_template_columns": null,
      "grid_template_rows": null,
      "height": null,
      "justify_content": null,
      "justify_items": null,
      "left": null,
      "margin": null,
      "max_height": null,
      "max_width": null,
      "min_height": null,
      "min_width": null,
      "object_fit": null,
      "object_position": null,
      "order": null,
      "overflow": null,
      "overflow_x": null,
      "overflow_y": null,
      "padding": null,
      "right": null,
      "top": null,
      "visibility": null,
      "width": null
     }
    },
    "47a0d74cca7e40daa3a11d7d24233b35": {
     "model_module": "@jupyter-widgets/controls",
     "model_name": "ProgressStyleModel",
     "state": {
      "_model_module": "@jupyter-widgets/controls",
      "_model_module_version": "1.5.0",
      "_model_name": "ProgressStyleModel",
      "_view_count": null,
      "_view_module": "@jupyter-widgets/base",
      "_view_module_version": "1.2.0",
      "_view_name": "StyleView",
      "bar_color": null,
      "description_width": "initial"
     }
    },
    "4e2a079724654a7cb9ddfb9a94e97a75": {
     "model_module": "@jupyter-widgets/controls",
     "model_name": "DescriptionStyleModel",
     "state": {
      "_model_module": "@jupyter-widgets/controls",
      "_model_module_version": "1.5.0",
      "_model_name": "DescriptionStyleModel",
      "_view_count": null,
      "_view_module": "@jupyter-widgets/base",
      "_view_module_version": "1.2.0",
      "_view_name": "StyleView",
      "description_width": ""
     }
    },
    "58b2178099b347ba91789b3cfd45736d": {
     "model_module": "@jupyter-widgets/base",
     "model_name": "LayoutModel",
     "state": {
      "_model_module": "@jupyter-widgets/base",
      "_model_module_version": "1.2.0",
      "_model_name": "LayoutModel",
      "_view_count": null,
      "_view_module": "@jupyter-widgets/base",
      "_view_module_version": "1.2.0",
      "_view_name": "LayoutView",
      "align_content": null,
      "align_items": null,
      "align_self": null,
      "border": null,
      "bottom": null,
      "display": null,
      "flex": null,
      "flex_flow": null,
      "grid_area": null,
      "grid_auto_columns": null,
      "grid_auto_flow": null,
      "grid_auto_rows": null,
      "grid_column": null,
      "grid_gap": null,
      "grid_row": null,
      "grid_template_areas": null,
      "grid_template_columns": null,
      "grid_template_rows": null,
      "height": null,
      "justify_content": null,
      "justify_items": null,
      "left": null,
      "margin": null,
      "max_height": null,
      "max_width": null,
      "min_height": null,
      "min_width": null,
      "object_fit": null,
      "object_position": null,
      "order": null,
      "overflow": null,
      "overflow_x": null,
      "overflow_y": null,
      "padding": null,
      "right": null,
      "top": null,
      "visibility": null,
      "width": null
     }
    },
    "6c8c98f94e604fa98963e6903986168d": {
     "model_module": "@jupyter-widgets/controls",
     "model_name": "HTMLModel",
     "state": {
      "_dom_classes": [],
      "_model_module": "@jupyter-widgets/controls",
      "_model_module_version": "1.5.0",
      "_model_name": "HTMLModel",
      "_view_count": null,
      "_view_module": "@jupyter-widgets/controls",
      "_view_module_version": "1.5.0",
      "_view_name": "HTMLView",
      "description": "",
      "description_tooltip": null,
      "layout": "IPY_MODEL_ce8995928977408b92aff4a683dc5f1a",
      "placeholder": "​",
      "style": "IPY_MODEL_4e2a079724654a7cb9ddfb9a94e97a75",
      "value": " 161/161 [01:26&lt;00:00,  1.86it/s]"
     }
    },
    "a9e3b32014c9406aa0de23203dda0029": {
     "model_module": "@jupyter-widgets/controls",
     "model_name": "FloatProgressModel",
     "state": {
      "_dom_classes": [],
      "_model_module": "@jupyter-widgets/controls",
      "_model_module_version": "1.5.0",
      "_model_name": "FloatProgressModel",
      "_view_count": null,
      "_view_module": "@jupyter-widgets/controls",
      "_view_module_version": "1.5.0",
      "_view_name": "ProgressView",
      "bar_style": "success",
      "description": "100%",
      "description_tooltip": null,
      "layout": "IPY_MODEL_09a766e10fd24342893ab6a25108418d",
      "max": 161,
      "min": 0,
      "orientation": "horizontal",
      "style": "IPY_MODEL_47a0d74cca7e40daa3a11d7d24233b35",
      "value": 161
     }
    },
    "bba6622d929b4ddab312bf88033f95d4": {
     "model_module": "@jupyter-widgets/controls",
     "model_name": "HBoxModel",
     "state": {
      "_dom_classes": [],
      "_model_module": "@jupyter-widgets/controls",
      "_model_module_version": "1.5.0",
      "_model_name": "HBoxModel",
      "_view_count": null,
      "_view_module": "@jupyter-widgets/controls",
      "_view_module_version": "1.5.0",
      "_view_name": "HBoxView",
      "box_style": "",
      "children": [
       "IPY_MODEL_a9e3b32014c9406aa0de23203dda0029",
       "IPY_MODEL_6c8c98f94e604fa98963e6903986168d"
      ],
      "layout": "IPY_MODEL_58b2178099b347ba91789b3cfd45736d"
     }
    },
    "ce8995928977408b92aff4a683dc5f1a": {
     "model_module": "@jupyter-widgets/base",
     "model_name": "LayoutModel",
     "state": {
      "_model_module": "@jupyter-widgets/base",
      "_model_module_version": "1.2.0",
      "_model_name": "LayoutModel",
      "_view_count": null,
      "_view_module": "@jupyter-widgets/base",
      "_view_module_version": "1.2.0",
      "_view_name": "LayoutView",
      "align_content": null,
      "align_items": null,
      "align_self": null,
      "border": null,
      "bottom": null,
      "display": null,
      "flex": null,
      "flex_flow": null,
      "grid_area": null,
      "grid_auto_columns": null,
      "grid_auto_flow": null,
      "grid_auto_rows": null,
      "grid_column": null,
      "grid_gap": null,
      "grid_row": null,
      "grid_template_areas": null,
      "grid_template_columns": null,
      "grid_template_rows": null,
      "height": null,
      "justify_content": null,
      "justify_items": null,
      "left": null,
      "margin": null,
      "max_height": null,
      "max_width": null,
      "min_height": null,
      "min_width": null,
      "object_fit": null,
      "object_position": null,
      "order": null,
      "overflow": null,
      "overflow_x": null,
      "overflow_y": null,
      "padding": null,
      "right": null,
      "top": null,
      "visibility": null,
      "width": null
     }
    }
   }
  }
 },
 "nbformat": 4,
 "nbformat_minor": 4
}
